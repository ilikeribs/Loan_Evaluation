{
 "cells": [
  {
   "cell_type": "markdown",
   "id": "152ed344",
   "metadata": {},
   "source": [
    "## Data preprocessing "
   ]
  },
  {
   "cell_type": "markdown",
   "id": "0a6ed4fb",
   "metadata": {},
   "source": [
    "In order to prepare the dataset for machine learning task a pre processing step is added in this notebook. The main aim of this step is to manage the size of the dataset by filtering relevant value categories, optimizing data types for memory management and removing data that is not relevant for the machine learning task at hand."
   ]
  },
  {
   "cell_type": "code",
   "execution_count": 1,
   "id": "d552b7ee",
   "metadata": {},
   "outputs": [],
   "source": [
    "import pandas as pd\n",
    "import numpy as np\n",
    "import re\n",
    "import seaborn as sns\n",
    "import matplotlib.pyplot as plt\n",
    "from sklearn.utils import shuffle"
   ]
  },
  {
   "cell_type": "code",
   "execution_count": 2,
   "id": "9600dc1f",
   "metadata": {},
   "outputs": [],
   "source": [
    "import warnings\n",
    "\n",
    "warnings.filterwarnings(\"ignore\")"
   ]
  },
  {
   "cell_type": "markdown",
   "id": "cdf72ff6",
   "metadata": {},
   "source": [
    "Set pandas view options for better readability of large dataframes"
   ]
  },
  {
   "cell_type": "code",
   "execution_count": 3,
   "id": "f2ee28ce",
   "metadata": {},
   "outputs": [],
   "source": [
    "pd.set_option(\"display.max_columns\", None)\n",
    "pd.set_option(\"display.width\", 1000)"
   ]
  },
  {
   "cell_type": "markdown",
   "id": "8f76ba7d",
   "metadata": {},
   "source": [
    "### Dataset composition"
   ]
  },
  {
   "cell_type": "markdown",
   "id": "6503fd52",
   "metadata": {},
   "source": [
    "Data is split between two files: accepted and rejected loans. To establish what data is available to the lending company while making the decision for accepting/rejecting loan application we can look at rejected dataset and extract the features which we will look for in the approved dataset to structure our dataframe."
   ]
  },
  {
   "cell_type": "code",
   "execution_count": 4,
   "id": "bf194b56",
   "metadata": {},
   "outputs": [
    {
     "name": "stdout",
     "output_type": "stream",
     "text": [
      "Starting pre process of datasets\n"
     ]
    }
   ],
   "source": [
    "print(\"Starting pre process of datasets\")"
   ]
  },
  {
   "cell_type": "markdown",
   "id": "13fa6f7e",
   "metadata": {},
   "source": [
    "#### Read the columns of rejected loans"
   ]
  },
  {
   "cell_type": "code",
   "execution_count": 7,
   "id": "dc5aac02",
   "metadata": {},
   "outputs": [
    {
     "name": "stdout",
     "output_type": "stream",
     "text": [
      "['Amount Requested', 'Application Date', 'Loan Title', 'Risk_Score', 'Debt-To-Income Ratio', 'Zip Code', 'State', 'Employment Length', 'Policy Code']\n"
     ]
    }
   ],
   "source": [
    "cols = pd.read_csv(\"rejected_2007_to_2018Q4.csv\", nrows=0).columns.tolist()\n",
    "print(cols)"
   ]
  },
  {
   "cell_type": "markdown",
   "id": "8130d6a2",
   "metadata": {},
   "source": [
    "Seems we have 9 features that are used to determine the loan acceptance/rejection. \n",
    "\n",
    "- Amount of loan requested\n",
    "- Application date\n",
    "- Purpose of the loan\n",
    "- FICO risk score of applicant\n",
    "- Loan amount to annual income ratio\n",
    "- Location of potential customer with zip code/state which part of is anonymized\n",
    "- Length of employment\n",
    "- Policy code which is calculated and assigned based on FICO score by Lending Club (when application is approved?)"
   ]
  },
  {
   "cell_type": "markdown",
   "id": "6e716bd8",
   "metadata": {},
   "source": [
    "We can load in the approved loan dataset and match columns between accepted and rejected datasets"
   ]
  },
  {
   "cell_type": "markdown",
   "id": "4ba01e98",
   "metadata": {},
   "source": [
    "#### Define the respective columns from accepted dataset and set data types"
   ]
  },
  {
   "cell_type": "code",
   "execution_count": 8,
   "id": "1148d8a5",
   "metadata": {},
   "outputs": [],
   "source": [
    "cols_acc = [\n",
    "    \"loan_amnt\",\n",
    "    \"issue_d\",\n",
    "    \"title\",\n",
    "    \"dti\",\n",
    "    \"dti_joint\",\n",
    "    \"addr_state\",\n",
    "    \"fico_range_low\",\n",
    "    \"fico_range_high\",\n",
    "    \"emp_length\",\n",
    "    \"policy_code\",\n",
    "]"
   ]
  },
  {
   "cell_type": "code",
   "execution_count": 9,
   "id": "51764c50",
   "metadata": {},
   "outputs": [],
   "source": [
    "col_types = {\n",
    "    \"loan_amnt\": \"float32\",\n",
    "    \"issue_d\": \"string\",\n",
    "    \"emp_title\": \"category\",\n",
    "    \"emp_length\": \"category\",\n",
    "    \"title\": \"category\",\n",
    "    \"addr_state\": \"category\",\n",
    "    \"dti\": \"float32\",\n",
    "    \"dti_join\": \"float32\",\n",
    "    \"fico_range_low\": \"float32\",\n",
    "    \"fico_range_high\": \"float32\",\n",
    "    \"policy_code\": \"float32\",\n",
    "}"
   ]
  },
  {
   "cell_type": "code",
   "execution_count": 10,
   "id": "5152dac0",
   "metadata": {},
   "outputs": [],
   "source": [
    "df_app = pd.read_csv(\n",
    "    \"accepted_2007_to_2018Q4.csv\",\n",
    "    usecols=cols_acc,\n",
    "    dtype=col_types,\n",
    "    parse_dates=[\"issue_d\"],\n",
    ")"
   ]
  },
  {
   "cell_type": "markdown",
   "id": "9e0211f2",
   "metadata": {},
   "source": [
    "#### Dtypes for rejected dataset"
   ]
  },
  {
   "cell_type": "code",
   "execution_count": 11,
   "id": "25443275",
   "metadata": {},
   "outputs": [],
   "source": [
    "colm_types = {\n",
    "    \"Amount Requested\": \"float32\",\n",
    "    \"Application Date\": \"string\",\n",
    "    \"Loan Title\": \"category\",\n",
    "    \"Risk_Score\": \"float32\",\n",
    "    \"Debt-To-Income Ratio\": \"category\",\n",
    "    \"State\": \"category\",\n",
    "    \"Employment Length\": \"category\",\n",
    "    \"Policy Code\": \"float32\",\n",
    "}"
   ]
  },
  {
   "cell_type": "code",
   "execution_count": 12,
   "id": "96857529",
   "metadata": {},
   "outputs": [],
   "source": [
    "cols_import = [\n",
    "    \"Amount Requested\",\n",
    "    \"Application Date\",\n",
    "    \"Loan Title\",\n",
    "    \"Risk_Score\",\n",
    "    \"Debt-To-Income Ratio\",\n",
    "    \"State\",\n",
    "    \"Employment Length\",\n",
    "    \"Policy Code\",\n",
    "]"
   ]
  },
  {
   "cell_type": "code",
   "execution_count": 13,
   "id": "26a76e2b",
   "metadata": {},
   "outputs": [],
   "source": [
    "df_rej = pd.read_csv(\n",
    "    \"rejected_2007_to_2018Q4.csv\",\n",
    "    usecols=cols_import,\n",
    "    dtype=colm_types,\n",
    "    parse_dates=[\"Application Date\"],\n",
    ")"
   ]
  },
  {
   "cell_type": "markdown",
   "id": "7a06b4c4",
   "metadata": {},
   "source": [
    "### Clean the employment time"
   ]
  },
  {
   "cell_type": "code",
   "execution_count": 12,
   "id": "3d8afa26",
   "metadata": {},
   "outputs": [],
   "source": [
    "df_app[\"Risk_Score\"] = (df_app[\"fico_range_low\"] + df_app[\"fico_range_high\"]) / 2"
   ]
  },
  {
   "cell_type": "markdown",
   "id": "ffc6bc2c",
   "metadata": {},
   "source": [
    "### Rename the dataframes and reorder columns"
   ]
  },
  {
   "cell_type": "code",
   "execution_count": 13,
   "id": "a6b6860d",
   "metadata": {
    "scrolled": true
   },
   "outputs": [
    {
     "data": {
      "text/html": [
       "<div>\n",
       "<style scoped>\n",
       "    .dataframe tbody tr th:only-of-type {\n",
       "        vertical-align: middle;\n",
       "    }\n",
       "\n",
       "    .dataframe tbody tr th {\n",
       "        vertical-align: top;\n",
       "    }\n",
       "\n",
       "    .dataframe thead th {\n",
       "        text-align: right;\n",
       "    }\n",
       "</style>\n",
       "<table border=\"1\" class=\"dataframe\">\n",
       "  <thead>\n",
       "    <tr style=\"text-align: right;\">\n",
       "      <th></th>\n",
       "      <th>Amount Requested</th>\n",
       "      <th>Application Date</th>\n",
       "      <th>Loan Title</th>\n",
       "      <th>Risk_Score</th>\n",
       "      <th>Debt-To-Income Ratio</th>\n",
       "      <th>State</th>\n",
       "      <th>Employment Length</th>\n",
       "      <th>Policy Code</th>\n",
       "    </tr>\n",
       "  </thead>\n",
       "  <tbody>\n",
       "    <tr>\n",
       "      <th>0</th>\n",
       "      <td>1000.0</td>\n",
       "      <td>2007-05-26</td>\n",
       "      <td>Wedding Covered but No Honeymoon</td>\n",
       "      <td>693.0</td>\n",
       "      <td>10%</td>\n",
       "      <td>NM</td>\n",
       "      <td>4 years</td>\n",
       "      <td>0.0</td>\n",
       "    </tr>\n",
       "    <tr>\n",
       "      <th>1</th>\n",
       "      <td>1000.0</td>\n",
       "      <td>2007-05-26</td>\n",
       "      <td>Consolidating Debt</td>\n",
       "      <td>703.0</td>\n",
       "      <td>10%</td>\n",
       "      <td>MA</td>\n",
       "      <td>&lt; 1 year</td>\n",
       "      <td>0.0</td>\n",
       "    </tr>\n",
       "    <tr>\n",
       "      <th>2</th>\n",
       "      <td>11000.0</td>\n",
       "      <td>2007-05-27</td>\n",
       "      <td>Want to consolidate my debt</td>\n",
       "      <td>715.0</td>\n",
       "      <td>10%</td>\n",
       "      <td>MD</td>\n",
       "      <td>1 year</td>\n",
       "      <td>0.0</td>\n",
       "    </tr>\n",
       "    <tr>\n",
       "      <th>3</th>\n",
       "      <td>6000.0</td>\n",
       "      <td>2007-05-27</td>\n",
       "      <td>waksman</td>\n",
       "      <td>698.0</td>\n",
       "      <td>38.64%</td>\n",
       "      <td>MA</td>\n",
       "      <td>&lt; 1 year</td>\n",
       "      <td>0.0</td>\n",
       "    </tr>\n",
       "    <tr>\n",
       "      <th>4</th>\n",
       "      <td>1500.0</td>\n",
       "      <td>2007-05-27</td>\n",
       "      <td>mdrigo</td>\n",
       "      <td>509.0</td>\n",
       "      <td>9.43%</td>\n",
       "      <td>MD</td>\n",
       "      <td>&lt; 1 year</td>\n",
       "      <td>0.0</td>\n",
       "    </tr>\n",
       "  </tbody>\n",
       "</table>\n",
       "</div>"
      ],
      "text/plain": [
       "   Amount Requested Application Date                        Loan Title  Risk_Score Debt-To-Income Ratio State Employment Length  Policy Code\n",
       "0            1000.0       2007-05-26  Wedding Covered but No Honeymoon       693.0                  10%    NM           4 years          0.0\n",
       "1            1000.0       2007-05-26                Consolidating Debt       703.0                  10%    MA          < 1 year          0.0\n",
       "2           11000.0       2007-05-27       Want to consolidate my debt       715.0                  10%    MD            1 year          0.0\n",
       "3            6000.0       2007-05-27                           waksman       698.0               38.64%    MA          < 1 year          0.0\n",
       "4            1500.0       2007-05-27                            mdrigo       509.0                9.43%    MD          < 1 year          0.0"
      ]
     },
     "execution_count": 13,
     "metadata": {},
     "output_type": "execute_result"
    }
   ],
   "source": [
    "df_rej.head()"
   ]
  },
  {
   "cell_type": "code",
   "execution_count": 14,
   "id": "4fe44229",
   "metadata": {},
   "outputs": [],
   "source": [
    "df_app = df_app.drop([\"fico_range_low\", \"fico_range_high\"], axis=1)"
   ]
  },
  {
   "cell_type": "code",
   "execution_count": 15,
   "id": "3ad7825a",
   "metadata": {},
   "outputs": [],
   "source": [
    "df_rej[\"Debt-To-Income Ratio\"] = df_rej[\"Debt-To-Income Ratio\"].str.replace(\"%\", \"\")"
   ]
  },
  {
   "cell_type": "code",
   "execution_count": 16,
   "id": "13bdf08a",
   "metadata": {},
   "outputs": [],
   "source": [
    "column_order = [\n",
    "    \"Amount Requested\",\n",
    "    \"Employment Length\",\n",
    "    \"Application Date\",\n",
    "    \"State\",\n",
    "    \"Debt-To-Income Ratio\",\n",
    "    \"Policy Code\",\n",
    "    \"Risk_Score\",\n",
    "]"
   ]
  },
  {
   "cell_type": "markdown",
   "id": "997e51d9",
   "metadata": {},
   "source": [
    "Reorder columns for concatenation"
   ]
  },
  {
   "cell_type": "code",
   "execution_count": 17,
   "id": "03c93bc9",
   "metadata": {},
   "outputs": [],
   "source": [
    "df_rej = df_rej[column_order]"
   ]
  },
  {
   "cell_type": "markdown",
   "id": "de08ac7a",
   "metadata": {},
   "source": [
    "Add target labels"
   ]
  },
  {
   "cell_type": "code",
   "execution_count": 18,
   "id": "1f8dc0f5",
   "metadata": {},
   "outputs": [],
   "source": [
    "df_rej[\"loan\"] = 0\n",
    "df_app[\"loan\"] = 1"
   ]
  },
  {
   "cell_type": "code",
   "execution_count": 19,
   "id": "4868e833",
   "metadata": {},
   "outputs": [],
   "source": [
    "column_names = {\n",
    "    \"Amount Requested\": \"loan_amnt\",\n",
    "    \"Employment Length\": \"emp_length\",\n",
    "    \"Application Date\": \"issue_d\",\n",
    "    \"State\": \"addr_state\",\n",
    "    \"Debt-To-Income Ratio\": \"dti\",\n",
    "    \"Policy Code\": \"policy_code\",\n",
    "    \"Risk_Score\": \"Risk_Score\",\n",
    "}"
   ]
  },
  {
   "cell_type": "code",
   "execution_count": 20,
   "id": "a441bc6c",
   "metadata": {},
   "outputs": [],
   "source": [
    "df_rej = df_rej.rename(columns=column_names)"
   ]
  },
  {
   "cell_type": "markdown",
   "id": "7fcf38db",
   "metadata": {},
   "source": [
    "### Merge both dataframes"
   ]
  },
  {
   "cell_type": "code",
   "execution_count": 22,
   "id": "22ea3b1a",
   "metadata": {},
   "outputs": [
    {
     "name": "stdout",
     "output_type": "stream",
     "text": [
      "Merging datasets\n"
     ]
    }
   ],
   "source": [
    "print(\"Merging datasets\")"
   ]
  },
  {
   "cell_type": "code",
   "execution_count": 30,
   "id": "3568f8f9",
   "metadata": {},
   "outputs": [],
   "source": [
    "loan_df = pd.concat([df_app, df_rej], axis=0, ignore_index=True)"
   ]
  },
  {
   "cell_type": "code",
   "execution_count": 31,
   "id": "672dc8dc",
   "metadata": {},
   "outputs": [],
   "source": [
    "loan_df[\"emp_length\"] = loan_df[\"emp_length\"].str.extract(\"(^\\d*)\")"
   ]
  },
  {
   "cell_type": "markdown",
   "id": "95b3aa34",
   "metadata": {},
   "source": [
    "### Export the dataframe for EDA and ML"
   ]
  },
  {
   "cell_type": "markdown",
   "id": "c13d0d98",
   "metadata": {},
   "source": [
    "Rename the columns so its nice and tidy for future use"
   ]
  },
  {
   "cell_type": "code",
   "execution_count": 35,
   "id": "3bce036d",
   "metadata": {},
   "outputs": [],
   "source": [
    "column_names = {\n",
    "    \"loan_amnt\": \"amount\",\n",
    "    \"emp_length\": \"employment_length\",\n",
    "    \"issue_d\": \"date\",\n",
    "    \"title\": \"purpose\",\n",
    "    \"addr_state\": \"state\",\n",
    "    \"dti\": \"debt_to_income\",\n",
    "    \"policy_code\": \"policy\",\n",
    "    \"Risk_Score\": \"fico\",\n",
    "    \"loan\": \"loan\",\n",
    "}\n",
    "loan_df = loan_df.rename(columns=column_names)"
   ]
  },
  {
   "cell_type": "markdown",
   "id": "bc30f9c3",
   "metadata": {},
   "source": [
    "Shuffle the dataset for easier sampling in the analysis"
   ]
  },
  {
   "cell_type": "code",
   "execution_count": 36,
   "id": "741de385",
   "metadata": {},
   "outputs": [],
   "source": [
    "loan_df = shuffle(loan_df)"
   ]
  },
  {
   "cell_type": "markdown",
   "id": "a96f07e6",
   "metadata": {},
   "source": [
    "Export the dataframe"
   ]
  },
  {
   "cell_type": "code",
   "execution_count": 39,
   "id": "3f191a5c",
   "metadata": {},
   "outputs": [],
   "source": [
    "loan_df.to_csv(\"all_loans_shuf.csv\")"
   ]
  },
  {
   "cell_type": "code",
   "execution_count": 40,
   "id": "7028834d",
   "metadata": {
    "scrolled": true
   },
   "outputs": [
    {
     "name": "stdout",
     "output_type": "stream",
     "text": [
      "Finished\n"
     ]
    }
   ],
   "source": [
    "print(\"Finished\")"
   ]
  }
 ],
 "metadata": {
  "kernelspec": {
   "display_name": "Python 3 (ipykernel)",
   "language": "python",
   "name": "python3"
  },
  "language_info": {
   "codemirror_mode": {
    "name": "ipython",
    "version": 3
   },
   "file_extension": ".py",
   "mimetype": "text/x-python",
   "name": "python",
   "nbconvert_exporter": "python",
   "pygments_lexer": "ipython3",
   "version": "3.11.2"
  }
 },
 "nbformat": 4,
 "nbformat_minor": 5
}
